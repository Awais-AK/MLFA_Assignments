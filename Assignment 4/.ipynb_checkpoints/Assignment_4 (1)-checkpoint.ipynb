{
 "cells": [
  {
   "cell_type": "code",
   "execution_count": 44,
   "metadata": {
    "id": "KhvRc-dvuYc6"
   },
   "outputs": [],
   "source": [
    "from scipy.io import loadmat\n",
    "import pandas as pd\n",
    "import numpy as np\n",
    "from sklearn.linear_model import LinearRegression \n",
    "from sklearn.metrics import mean_squared_error"
   ]
  },
  {
   "cell_type": "code",
   "execution_count": 64,
   "metadata": {
    "colab": {
     "base_uri": "https://localhost:8080/",
     "height": 129
    },
    "id": "U5VBEC6IBLpu",
    "outputId": "f2ad806f-4518-48ac-964b-668d8789a71d"
   },
   "outputs": [
    {
     "ename": "SyntaxError",
     "evalue": "ignored",
     "output_type": "error",
     "traceback": [
      "\u001b[0;36m  File \u001b[0;32m\"<ipython-input-64-b0d1dc9d4d06>\"\u001b[0;36m, line \u001b[0;32m40\u001b[0m\n\u001b[0;31m    for i in range()\u001b[0m\n\u001b[0m                    ^\u001b[0m\n\u001b[0;31mSyntaxError\u001b[0m\u001b[0;31m:\u001b[0m invalid syntax\n"
     ]
    }
   ],
   "source": [
    "train = loadmat('2010rainfall.mat')\n",
    "train.keys()\n",
    "\n",
    "t1=[]\n",
    "days=[]\n",
    "for i in range(len(train['XR1'][0])):\n",
    "  days.append(i+1)\n",
    "  \n",
    "#print(days)\n",
    "\n",
    "location=[]\n",
    "for i in range(len(train['XR1'])):\n",
    "  location.append(i+1)\n",
    "  t1.append(0)\n",
    "\n",
    "#print(location)\n",
    "df=pd.DataFrame(data=train['XR1'],index=location,columns=days)\n",
    "df.insert(0,'-1',t1,True)\n",
    "df.insert(0,'-2',t1,True)\n",
    "\n",
    "days=days+2\n",
    "\n",
    "test = loadmat('2011rainfall.mat')\n",
    "test.keys()\n",
    "\n",
    "days1=[]\n",
    "for i in range(len(test['XR'][0])):\n",
    "  days1.append(i+1)\n",
    "\n",
    "location1=[]\n",
    "for i in range(len(test['XR'])):\n",
    "  location1.append(i+1)\n",
    "df1=pd.DataFrame(data=test['XR'],index=location1,columns=days1)\n",
    "\n",
    "y_train42=df.iloc[41,:]\n",
    "y_train42=y_train42.transpose()\n",
    "x_train42=df.drop([41])\n",
    "x_train42=x_train42.transpose()\n",
    "\n",
    "# for i in range(2,len(days)):\n",
    "#   pday1.append()\n",
    "\n",
    "reg=LinearRegression() \n",
    "reg.fit(x_train42,y_train42)\n",
    "\n",
    "y_test42=df1.iloc[41,:]\n",
    "y_test42=y_test42.transpose()\n",
    "x_test42=df1.drop([41])\n",
    "x_test42=x_test42.transpose()\n",
    "\n",
    "y_pred42=reg.predict(x_test42)\n",
    "\n",
    "mean_squared_error(y_test42, y_pred42,squared=True)"
   ]
  },
  {
   "cell_type": "code",
   "execution_count": null,
   "metadata": {
    "id": "YZ6_VxyuIH21"
   },
   "outputs": [],
   "source": []
  }
 ],
 "metadata": {
  "colab": {
   "name": "Assignment 4.ipynb",
   "provenance": []
  },
  "kernelspec": {
   "display_name": "Python 3",
   "language": "python",
   "name": "python3"
  },
  "language_info": {
   "codemirror_mode": {
    "name": "ipython",
    "version": 3
   },
   "file_extension": ".py",
   "mimetype": "text/x-python",
   "name": "python",
   "nbconvert_exporter": "python",
   "pygments_lexer": "ipython3",
   "version": "3.8.3"
  }
 },
 "nbformat": 4,
 "nbformat_minor": 1
}
