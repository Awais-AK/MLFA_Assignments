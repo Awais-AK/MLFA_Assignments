{
 "cells": [
  {
   "cell_type": "code",
   "execution_count": 1,
   "metadata": {},
   "outputs": [],
   "source": [
    "import numpy as np\n",
    "import pandas as pd\n",
    "from keras.datasets import mnist"
   ]
  },
  {
   "cell_type": "markdown",
   "metadata": {},
   "source": [
    "# Question 1"
   ]
  },
  {
   "cell_type": "code",
   "execution_count": 2,
   "metadata": {},
   "outputs": [
    {
     "name": "stdout",
     "output_type": "stream",
     "text": [
      "Downloading data from https://storage.googleapis.com/tensorflow/tf-keras-datasets/mnist.npz\n",
      "11493376/11490434 [==============================] - 8s 1us/step\n"
     ]
    }
   ],
   "source": [
    "(trainX, trainy), (testX, testy) = mnist.load_data()"
   ]
  },
  {
   "cell_type": "code",
   "execution_count": 3,
   "metadata": {
    "scrolled": true
   },
   "outputs": [],
   "source": [
    "# Creating the X and Y datasets\n",
    "X_dataset = np.vstack((trainX, testX))\n",
    "y_dataset = np.concatenate((trainy, testy))"
   ]
  },
  {
   "cell_type": "code",
   "execution_count": 4,
   "metadata": {},
   "outputs": [],
   "source": [
    "# Flattening the X and y datasets\n",
    "pixels = X_dataset.shape[1]*X_dataset.shape[2]\n",
    "X_dataset = X_dataset.reshape((X_dataset.shape[0], pixels))"
   ]
  },
  {
   "cell_type": "code",
   "execution_count": 5,
   "metadata": {},
   "outputs": [],
   "source": [
    "#Thresholding the values to obtain respective binary vectors\n",
    "X_dataset = -1*((-1*X_dataset)//255)"
   ]
  },
  {
   "cell_type": "code",
   "execution_count": 6,
   "metadata": {},
   "outputs": [],
   "source": [
    "# Splitting the dataset into train, test and validation sets\n",
    "from sklearn.model_selection import train_test_split\n",
    "X_train_1, X_test, y_train_1, y_test = train_test_split(X_dataset, y_dataset, test_size = 0.20)\n",
    "X_train, X_val, y_train, y_val = train_test_split(X_train_1, y_train_1, test_size = 0.25)"
   ]
  },
  {
   "cell_type": "markdown",
   "metadata": {},
   "source": [
    "# Question 2-4"
   ]
  },
  {
   "cell_type": "code",
   "execution_count": 7,
   "metadata": {},
   "outputs": [],
   "source": [
    "#Implementing decision trees on the subsets\n",
    "import random\n",
    "from sklearn.tree import DecisionTreeClassifier \n",
    "accuracies = []\n",
    "classifiers = []\n",
    "for j in range(50):\n",
    "    count = 0\n",
    "    indices = [random.randint(0,783),\n",
    "                random.randint(0,783),\n",
    "                random.randint(0,783),\n",
    "                random.randint(0,783),\n",
    "                random.randint(0,783),\n",
    "                random.randint(0,783),\n",
    "                random.randint(0,783),\n",
    "                random.randint(0,783),\n",
    "                random.randint(0,783),\n",
    "                random.randint(0,783)\n",
    "                ]\n",
    "    train_subset = X_train[:, indices] \n",
    "    val_subset = X_val[:, indices]\n",
    "    classifier = DecisionTreeClassifier(max_depth = 5)\n",
    "    classifier.fit(train_subset, y_train)\n",
    "    y_pred = classifier.predict(val_subset)\n",
    "    for i in range(len(y_val)):\n",
    "        if y_val[i] == y_pred[i]: \n",
    "            count += 1 \n",
    "    accuracies.append((count*100)/len(y_val))\n",
    "    \n",
    "#     Predicting the test set labels using the model\n",
    "    test_subset = X_test[:, indices]\n",
    "    y_pred_test = classifier.predict(test_subset)\n",
    "    element = {'weight':accuracies[j], 'predictions':y_pred_test, 'indices':indices}\n",
    "    classifiers.append(element)\n",
    "        "
   ]
  },
  {
   "cell_type": "code",
   "execution_count": 8,
   "metadata": {},
   "outputs": [
    {
     "name": "stdout",
     "output_type": "stream",
     "text": [
      "Accuracy of Random Forest algorithm on the test set: 70.87142857142857\n"
     ]
    }
   ],
   "source": [
    "final_predictions = []\n",
    "for k in range(len(y_test)):\n",
    "    prediction_weights = [0]*10\n",
    "    for classifier in classifiers:\n",
    "        prediction_weights[classifier['predictions'][k]] += classifier['weight']\n",
    "    final_predictions.append(prediction_weights.index(max(prediction_weights)))\n",
    "\n",
    "# Accuracy on the test set\n",
    "count = 0\n",
    "for k in range(len(y_test)):\n",
    "    if final_predictions[k] == y_test[k]:\n",
    "        count+=1\n",
    "test_accuracy = (count*100)/len(y_test)\n",
    "print('Accuracy of Random Forest algorithm on the test set: {}'.format(test_accuracy))"
   ]
  },
  {
   "cell_type": "markdown",
   "metadata": {},
   "source": [
    "# Question 5-6"
   ]
  },
  {
   "cell_type": "code",
   "execution_count": 9,
   "metadata": {},
   "outputs": [],
   "source": [
    "# Implementing adaboost over the training set\n",
    "import math\n",
    "n = train_subset.shape[0]\n",
    "weights = np.full((train_subset.shape[0],1), 1/n)\n",
    "indices = [random.randint(0,783),\n",
    "                random.randint(0,783),\n",
    "                random.randint(0,783),\n",
    "                random.randint(0,783),\n",
    "                random.randint(0,783),\n",
    "                random.randint(0,783),\n",
    "                random.randint(0,783),\n",
    "                random.randint(0,783),\n",
    "                random.randint(0,783),\n",
    "                random.randint(0,783)\n",
    "                ]\n",
    "for iterations in range(20):\n",
    "    train_subset = X_train[:, indices]\n",
    "    weighted_subset = (train_subset*weights)\n",
    "    classifier = DecisionTreeClassifier(max_depth = 5)\n",
    "    classifier.fit(weighted_subset, y_train)\n",
    "    y_pred = classifier.predict(train_subset)\n",
    "    corr_pred = [y_pred[i] == y_train[i] for i in range(len(y_train))]\n",
    "    corr_pred = np.array(corr_pred)\n",
    "    error = np.dot(weights.T, corr_pred)\n",
    "    stage = math.log((1-error)/error)\n",
    "    for i in range(len(y_train)):\n",
    "        if y_pred[i] == y_train[i]:\n",
    "            weights[i] = weights[i]*math.exp(-stage)\n",
    "        else:\n",
    "            weights[i] = weights[i]*math.exp(stage)\n",
    "    weights = weights/sum(weights)\n",
    "\n",
    "    \n"
   ]
  },
  {
   "cell_type": "code",
   "execution_count": 10,
   "metadata": {},
   "outputs": [
    {
     "name": "stdout",
     "output_type": "stream",
     "text": [
      "Accuracy of Adaboost on test set is 6.507142857142857\n"
     ]
    }
   ],
   "source": [
    "# Implementing adaboost over the test set\n",
    "import math\n",
    "n = test_subset.shape[0]\n",
    "weights = np.full((test_subset.shape[0],1), 1/n)\n",
    "indices = [random.randint(0,783),\n",
    "                random.randint(0,783),\n",
    "                random.randint(0,783),\n",
    "                random.randint(0,783),\n",
    "                random.randint(0,783),\n",
    "                random.randint(0,783),\n",
    "                random.randint(0,783),\n",
    "                random.randint(0,783),\n",
    "                random.randint(0,783),\n",
    "                random.randint(0,783)\n",
    "                ]\n",
    "for iterations in range(20):\n",
    "    test_subset = X_test[:, indices]\n",
    "    weighted_subset = (test_subset*weights)\n",
    "    classifier = DecisionTreeClassifier(max_depth = 5, criterion = 'entropy')\n",
    "    classifier.fit(weighted_subset, y_test)\n",
    "    y_pred_test = classifier.predict(test_subset)\n",
    "    corr_pred = []\n",
    "    for i in range(len(y_test)):\n",
    "        if y_pred_test[i] == y_test[i]:\n",
    "            corr_pred.append(1)\n",
    "        else:\n",
    "            corr_pred.append(0)\n",
    "    corr_pred = np.array(corr_pred)\n",
    "    error = np.dot(weights.T, corr_pred)\n",
    "    stage = math.log((1-error)/error)\n",
    "    for i in range(len(y_test)):\n",
    "        if y_pred_test[i] == y_test[i]:\n",
    "            weights[i] = weights[i]*math.exp(-1*stage)\n",
    "        else:\n",
    "            weights[i] = weights[i]*math.exp(stage)\n",
    "    weights = weights/sum(weights)\n",
    "accuracy = (sum(corr_pred)*100)/len(y_test)\n",
    "print(\"Accuracy of Adaboost on test set is {}\".format(accuracy))"
   ]
  },
  {
   "cell_type": "code",
   "execution_count": null,
   "metadata": {},
   "outputs": [],
   "source": []
  },
  {
   "cell_type": "code",
   "execution_count": null,
   "metadata": {},
   "outputs": [],
   "source": []
  }
 ],
 "metadata": {
  "kernelspec": {
   "display_name": "Python 3",
   "language": "python",
   "name": "python3"
  },
  "language_info": {
   "codemirror_mode": {
    "name": "ipython",
    "version": 3
   },
   "file_extension": ".py",
   "mimetype": "text/x-python",
   "name": "python",
   "nbconvert_exporter": "python",
   "pygments_lexer": "ipython3",
   "version": "3.8.3"
  }
 },
 "nbformat": 4,
 "nbformat_minor": 4
}
